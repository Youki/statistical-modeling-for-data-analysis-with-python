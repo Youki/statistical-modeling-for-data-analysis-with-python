{
 "metadata": {
  "name": ""
 },
 "nbformat": 3,
 "nbformat_minor": 0,
 "worksheets": [
  {
   "cells": [
    {
     "cell_type": "markdown",
     "metadata": {},
     "source": [
      "\u7b2c7\u7ae0 \u4e00\u822c\u5316\u7dda\u5f62\u6df7\u5408\u30e2\u30c7\u30eb(GLMM)\n",
      "=============================\n",
      "\n",
      "python\u306b\u306fGLMM\u3092\u8a08\u7b97\u3059\u308b\u4fbf\u5229\u306a\u30e2\u30b8\u30e5\u30fc\u30eb\u304c\u5b9f\u88c5\u3055\u308c\u3066\u3044\u306a\u3044\uff0e\n",
      "\u4e00\u65b9\uff0cMCMC\u306b\u3088\u308a\u540c\u69d8\u306e\u8a08\u7b97\u304c\u5b9f\u73fe\u3067\u304d\u308b\u304c\uff0c\u3053\u3061\u3089\u306f\u7b2c10\u7ae0\u306b\u3066\u8aac\u660e\u3059\u308b\uff0e"
     ]
    }
   ],
   "metadata": {}
  }
 ]
}